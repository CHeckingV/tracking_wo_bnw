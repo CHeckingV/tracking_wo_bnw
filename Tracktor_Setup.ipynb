{
  "nbformat": 4,
  "nbformat_minor": 0,
  "metadata": {
    "colab": {
      "name": "Tracktor.ipynb",
      "provenance": [],
      "collapsed_sections": []
    },
    "kernelspec": {
      "name": "python3",
      "display_name": "Python 3"
    },
    "accelerator": "GPU"
  },
  "cells": [
    {
      "cell_type": "code",
      "metadata": {
        "id": "_YszwAQn9ArH",
        "colab_type": "code",
        "colab": {}
      },
      "source": [
        "!git clone --branch port-to-pytorch-1-3 --recurse-submodule https://github.com/CHeckingV/tracking_wo_bnw.git\n",
        "#!git pull"
      ],
      "execution_count": 0,
      "outputs": []
    },
    {
      "cell_type": "code",
      "metadata": {
        "id": "dcP-EZxI-x3Z",
        "colab_type": "code",
        "colab": {}
      },
      "source": [
        "%cd /content/tracking_wo_bnw/"
      ],
      "execution_count": 0,
      "outputs": []
    },
    {
      "cell_type": "code",
      "metadata": {
        "id": "eUcEFmWD97F1",
        "colab_type": "code",
        "colab": {}
      },
      "source": [
        "!pip install -r requirements.txt\n",
        "!pip install -e src/fpn_torch1_3\n",
        "!pip install -e src/helper\n",
        "!pip install -e .\n",
        "!pip3 install torch torchvision"
      ],
      "execution_count": 0,
      "outputs": []
    },
    {
      "cell_type": "code",
      "metadata": {
        "id": "McTgg86K98yq",
        "colab_type": "code",
        "colab": {}
      },
      "source": [
        "%cd data/"
      ],
      "execution_count": 0,
      "outputs": []
    },
    {
      "cell_type": "code",
      "metadata": {
        "id": "lUJFi9NQ5RkD",
        "colab_type": "code",
        "colab": {}
      },
      "source": [
        "!pip install wget\n",
        "import wget \n",
        "wget.download('https://motchallenge.net/data/MOT17Det.zip')\n",
        "wget.download('https://motchallenge.net/data/MOT16Labels.zip');\n",
        "wget.download('https://motchallenge.net/data/2DMOT2015.zip');\n",
        "wget.download('https://motchallenge.net/data/MOT16-det-dpm-raw.zip');\n",
        "wget.download('https://motchallenge.net/data/MOT17Labels.zip');\n",
        "!unzip -d MOT17Det MOT17Det.zip;\n",
        "!unzip -d 2DMOT2015 2DMOT2015.zip;\n",
        "!unzip -d MOT16-det-dpm-raw MOT16-det-dpm-raw.zip; \n",
        "!unzip -d MOT17Labels MOT17Labels.zip;\n",
        "!unzip -d MOT16Labels MOT16Labels.zip;\n",
        "%rm *.zip\n",
        "%ls"
      ],
      "execution_count": 0,
      "outputs": []
    },
    {
      "cell_type": "code",
      "metadata": {
        "id": "pC3cUhAhCoR9",
        "colab_type": "code",
        "colab": {}
      },
      "source": [
        "%cd /content/tracking_wo_bnw/\n",
        "!apt-get install cuda"
      ],
      "execution_count": 0,
      "outputs": []
    },
    {
      "cell_type": "code",
      "metadata": {
        "id": "ZEN1m8N5CnIH",
        "colab_type": "code",
        "colab": {}
      },
      "source": [
        "%cd /content/tracking_wo_bnw\n",
        "%cd output\n",
        "%rm -r ./*\n",
        "!wget --load-cookies /tmp/cookies.txt \"https://docs.google.com/uc?export=download&confirm=$(wget --quiet --save-cookies /tmp/cookies.txt --keep-session-cookies --no-check-certificate 'https://docs.google.com/uc?export=download&id=1E0seC4zSdAsKUNScv4M0eAu7fG_v65_Q' -O- | sed -rn 's/.*confirm=([0-9A-Za-z_]+).*/\\1\\n/p')&id=1E0seC4zSdAsKUNScv4M0eAu7fG_v65_Q\" -O weights.zip && rm -rf /tmp/cookies.txt \n",
        "!unzip weights.zip\n",
        "%rm weights.zip\n",
        "%cp -r ./output/* .\n",
        "%rm -r ./output\n",
        "%ll\n",
        "%cd ..\n",
        "%pwd"
      ],
      "execution_count": 0,
      "outputs": []
    },
    {
      "cell_type": "code",
      "metadata": {
        "id": "Et20vHKwBYIR",
        "colab_type": "code",
        "colab": {}
      },
      "source": [
        "### Use UnsafeLoader in config_files in sacred package\n",
        "!sed -i 's/Full/Unsafe/g' /usr/local/lib/python3.6/dist-packages/sacred/config/config_files.py\n",
        "!sed -i 's/import json/import json\\nfrom yaml import UnsafeLoader/g'  /usr/local/lib/python3.6/dist-packages/sacred/config/config_files.py\n",
        "%cat /usr/local/lib/python3.6/dist-packages/sacred/config/config_files.py"
      ],
      "execution_count": 0,
      "outputs": []
    },
    {
      "cell_type": "code",
      "metadata": {
        "id": "sxneZFIKKp99",
        "colab_type": "code",
        "colab": {}
      },
      "source": [
        "!git pull\n",
        "!python experiments/scripts/test_tracktor.py"
      ],
      "execution_count": 0,
      "outputs": []
    },
    {
      "cell_type": "code",
      "metadata": {
        "id": "v3-mlWqvFq92",
        "colab_type": "code",
        "colab": {}
      },
      "source": [
        "%cd  /content/tracking_wo_bnw/output/tracktor/MOT17/Tracktor++/\n"
      ],
      "execution_count": 0,
      "outputs": []
    },
    {
      "cell_type": "code",
      "metadata": {
        "id": "hM6BrS98Xs-l",
        "colab_type": "code",
        "colab": {}
      },
      "source": [
        "#still need to try this part\n",
        "!apt-get install dvipng texlive-latex-extra texlive-fonts-recommended"
      ],
      "execution_count": 0,
      "outputs": []
    },
    {
      "cell_type": "code",
      "metadata": {
        "id": "BmqPbAb2XM1w",
        "colab_type": "code",
        "colab": {}
      },
      "source": [
        "%cd /content/tracking_wo_bnw/\n",
        "!git pull\n",
        "!python -m experiments.evaluation_tools.video_fp"
      ],
      "execution_count": 0,
      "outputs": []
    },
    {
      "cell_type": "code",
      "metadata": {
        "id": "bx0cLxMAX-o8",
        "colab_type": "code",
        "colab": {}
      },
      "source": [
        "ffmpeg -f image2 -framerate 15 -i %06d.jpg -vcodec libx264 -y movie.mp4 -vf scale=320:-1"
      ],
      "execution_count": 0,
      "outputs": []
    },
    {
      "cell_type": "code",
      "metadata": {
        "id": "cKARYJNeYISR",
        "colab_type": "code",
        "colab": {}
      },
      "source": [
        "%pwd"
      ],
      "execution_count": 0,
      "outputs": []
    },
    {
      "cell_type": "code",
      "metadata": {
        "id": "RuBrxGTSYI9X",
        "colab_type": "code",
        "colab": {}
      },
      "source": [
        ""
      ],
      "execution_count": 0,
      "outputs": []
    }
  ]
}